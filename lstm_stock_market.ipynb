{
  "cells": [
    {
      "cell_type": "markdown",
      "metadata": {
        "id": "view-in-github",
        "colab_type": "text"
      },
      "source": [
        "<a href=\"https://colab.research.google.com/github/jg4726/public-file/blob/main/lstm_stock_market.ipynb\" target=\"_parent\"><img src=\"https://colab.research.google.com/assets/colab-badge.svg\" alt=\"Open In Colab\"/></a>"
      ]
    },
    {
      "cell_type": "markdown",
      "id": "989c4190",
      "metadata": {
        "id": "989c4190"
      },
      "source": [
        "# LSTM"
      ]
    },
    {
      "cell_type": "code",
      "execution_count": null,
      "id": "181b1d96",
      "metadata": {
        "scrolled": true,
        "id": "181b1d96",
        "outputId": "febf3611-e0cd-4a3d-beca-89815ac0f043"
      },
      "outputs": [
        {
          "data": {
            "text/html": [
              "<style type='text/css'>\n",
              ".datatable table.frame { margin-bottom: 0; }\n",
              ".datatable table.frame thead { border-bottom: none; }\n",
              ".datatable table.frame tr.coltypes td {  color: #FFFFFF;  line-height: 6px;  padding: 0 0.5em;}\n",
              ".datatable .bool    { background: #DDDD99; }\n",
              ".datatable .object  { background: #565656; }\n",
              ".datatable .int     { background: #5D9E5D; }\n",
              ".datatable .float   { background: #4040CC; }\n",
              ".datatable .str     { background: #CC4040; }\n",
              ".datatable .time    { background: #40CC40; }\n",
              ".datatable .row_index {  background: var(--jp-border-color3);  border-right: 1px solid var(--jp-border-color0);  color: var(--jp-ui-font-color3);  font-size: 9px;}\n",
              ".datatable .frame tbody td { text-align: left; }\n",
              ".datatable .frame tr.coltypes .row_index {  background: var(--jp-border-color0);}\n",
              ".datatable th:nth-child(2) { padding-left: 12px; }\n",
              ".datatable .hellipsis {  color: var(--jp-cell-editor-border-color);}\n",
              ".datatable .vellipsis {  background: var(--jp-layout-color0);  color: var(--jp-cell-editor-border-color);}\n",
              ".datatable .na {  color: var(--jp-cell-editor-border-color);  font-size: 80%;}\n",
              ".datatable .sp {  opacity: 0.25;}\n",
              ".datatable .footer { font-size: 9px; }\n",
              ".datatable .frame_dimensions {  background: var(--jp-border-color3);  border-top: 1px solid var(--jp-border-color0);  color: var(--jp-ui-font-color3);  display: inline-block;  opacity: 0.6;  padding: 1px 10px 1px 5px;}\n",
              ".datatable .frame thead tr.colnames {  background-image: url('data:image/png;base64,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');  background-repeat: repeat-x;  background-size: 14px;  height: 28px;}\n",
              "</style>\n"
            ],
            "text/plain": [
              "<IPython.core.display.HTML object>"
            ]
          },
          "metadata": {},
          "output_type": "display_data"
        }
      ],
      "source": [
        "import datatable as dt\n",
        "import numpy as np\n",
        "from torch.utils.data import Dataset, DataLoader\n",
        "import torch\n",
        "from torch import nn\n",
        "#import janestreet\n",
        "from tqdm import tqdm\n",
        "import pandas as pd\n",
        "import os\n",
        "from sklearn.model_selection import train_test_split\n",
        "from sklearn.preprocessing import StandardScaler, MinMaxScaler\n",
        "from sklearn.decomposition import PCA\n",
        "from sklearn.manifold import TSNE\n",
        "import matplotlib.pyplot as plt\n",
        "import torch.nn.functional as F\n",
        "import random\n",
        "from sklearn.metrics import roc_auc_score"
      ]
    },
    {
      "cell_type": "markdown",
      "id": "f49f0738",
      "metadata": {
        "id": "f49f0738"
      },
      "source": [
        "## Data"
      ]
    },
    {
      "cell_type": "code",
      "execution_count": null,
      "id": "7f76c25b",
      "metadata": {
        "scrolled": false,
        "id": "7f76c25b"
      },
      "outputs": [],
      "source": [
        "#load data\n",
        "data_df = dt.fread(\"jane_street_train.jay\").to_pandas()"
      ]
    },
    {
      "cell_type": "code",
      "execution_count": null,
      "id": "b1c0e3da",
      "metadata": {
        "id": "b1c0e3da",
        "outputId": "cb374201-2796-4a18-a45f-d288ba68e33d"
      },
      "outputs": [
        {
          "data": {
            "text/html": [
              "<div>\n",
              "<style scoped>\n",
              "    .dataframe tbody tr th:only-of-type {\n",
              "        vertical-align: middle;\n",
              "    }\n",
              "\n",
              "    .dataframe tbody tr th {\n",
              "        vertical-align: top;\n",
              "    }\n",
              "\n",
              "    .dataframe thead th {\n",
              "        text-align: right;\n",
              "    }\n",
              "</style>\n",
              "<table border=\"1\" class=\"dataframe\">\n",
              "  <thead>\n",
              "    <tr style=\"text-align: right;\">\n",
              "      <th></th>\n",
              "      <th>date</th>\n",
              "      <th>weight</th>\n",
              "      <th>resp_1</th>\n",
              "      <th>resp_2</th>\n",
              "      <th>resp_3</th>\n",
              "      <th>resp_4</th>\n",
              "      <th>resp</th>\n",
              "      <th>feature_0</th>\n",
              "      <th>feature_1</th>\n",
              "      <th>feature_2</th>\n",
              "      <th>...</th>\n",
              "      <th>feature_121</th>\n",
              "      <th>feature_122</th>\n",
              "      <th>feature_123</th>\n",
              "      <th>feature_124</th>\n",
              "      <th>feature_125</th>\n",
              "      <th>feature_126</th>\n",
              "      <th>feature_127</th>\n",
              "      <th>feature_128</th>\n",
              "      <th>feature_129</th>\n",
              "      <th>ts_id</th>\n",
              "    </tr>\n",
              "  </thead>\n",
              "  <tbody>\n",
              "    <tr>\n",
              "      <th>0</th>\n",
              "      <td>0</td>\n",
              "      <td>0.000000</td>\n",
              "      <td>0.009916</td>\n",
              "      <td>0.014079</td>\n",
              "      <td>0.008773</td>\n",
              "      <td>0.001390</td>\n",
              "      <td>0.006270</td>\n",
              "      <td>1</td>\n",
              "      <td>-1.872746</td>\n",
              "      <td>-2.191242</td>\n",
              "      <td>...</td>\n",
              "      <td>NaN</td>\n",
              "      <td>1.168391</td>\n",
              "      <td>8.313583</td>\n",
              "      <td>1.782433</td>\n",
              "      <td>14.018213</td>\n",
              "      <td>2.653056</td>\n",
              "      <td>12.600292</td>\n",
              "      <td>2.301488</td>\n",
              "      <td>11.445807</td>\n",
              "      <td>0</td>\n",
              "    </tr>\n",
              "    <tr>\n",
              "      <th>1</th>\n",
              "      <td>0</td>\n",
              "      <td>16.673515</td>\n",
              "      <td>-0.002828</td>\n",
              "      <td>-0.003226</td>\n",
              "      <td>-0.007319</td>\n",
              "      <td>-0.011114</td>\n",
              "      <td>-0.009792</td>\n",
              "      <td>-1</td>\n",
              "      <td>-1.349537</td>\n",
              "      <td>-1.704709</td>\n",
              "      <td>...</td>\n",
              "      <td>NaN</td>\n",
              "      <td>-1.178850</td>\n",
              "      <td>1.777472</td>\n",
              "      <td>-0.915458</td>\n",
              "      <td>2.831612</td>\n",
              "      <td>-1.417010</td>\n",
              "      <td>2.297459</td>\n",
              "      <td>-1.304614</td>\n",
              "      <td>1.898684</td>\n",
              "      <td>1</td>\n",
              "    </tr>\n",
              "    <tr>\n",
              "      <th>2</th>\n",
              "      <td>0</td>\n",
              "      <td>0.000000</td>\n",
              "      <td>0.025134</td>\n",
              "      <td>0.027607</td>\n",
              "      <td>0.033406</td>\n",
              "      <td>0.034380</td>\n",
              "      <td>0.023970</td>\n",
              "      <td>-1</td>\n",
              "      <td>0.812780</td>\n",
              "      <td>-0.256156</td>\n",
              "      <td>...</td>\n",
              "      <td>NaN</td>\n",
              "      <td>6.115747</td>\n",
              "      <td>9.667908</td>\n",
              "      <td>5.542871</td>\n",
              "      <td>11.671595</td>\n",
              "      <td>7.281757</td>\n",
              "      <td>10.060014</td>\n",
              "      <td>6.638248</td>\n",
              "      <td>9.427299</td>\n",
              "      <td>2</td>\n",
              "    </tr>\n",
              "    <tr>\n",
              "      <th>3</th>\n",
              "      <td>0</td>\n",
              "      <td>0.000000</td>\n",
              "      <td>-0.004730</td>\n",
              "      <td>-0.003273</td>\n",
              "      <td>-0.000461</td>\n",
              "      <td>-0.000476</td>\n",
              "      <td>-0.003200</td>\n",
              "      <td>-1</td>\n",
              "      <td>1.174378</td>\n",
              "      <td>0.344640</td>\n",
              "      <td>...</td>\n",
              "      <td>NaN</td>\n",
              "      <td>2.838853</td>\n",
              "      <td>0.499251</td>\n",
              "      <td>3.033732</td>\n",
              "      <td>1.513488</td>\n",
              "      <td>4.397532</td>\n",
              "      <td>1.266037</td>\n",
              "      <td>3.856384</td>\n",
              "      <td>1.013469</td>\n",
              "      <td>3</td>\n",
              "    </tr>\n",
              "    <tr>\n",
              "      <th>4</th>\n",
              "      <td>0</td>\n",
              "      <td>0.138531</td>\n",
              "      <td>0.001252</td>\n",
              "      <td>0.002165</td>\n",
              "      <td>-0.001215</td>\n",
              "      <td>-0.006219</td>\n",
              "      <td>-0.002604</td>\n",
              "      <td>1</td>\n",
              "      <td>-3.172026</td>\n",
              "      <td>-3.093182</td>\n",
              "      <td>...</td>\n",
              "      <td>NaN</td>\n",
              "      <td>0.344850</td>\n",
              "      <td>4.101145</td>\n",
              "      <td>0.614252</td>\n",
              "      <td>6.623456</td>\n",
              "      <td>0.800129</td>\n",
              "      <td>5.233243</td>\n",
              "      <td>0.362636</td>\n",
              "      <td>3.926633</td>\n",
              "      <td>4</td>\n",
              "    </tr>\n",
              "    <tr>\n",
              "      <th>...</th>\n",
              "      <td>...</td>\n",
              "      <td>...</td>\n",
              "      <td>...</td>\n",
              "      <td>...</td>\n",
              "      <td>...</td>\n",
              "      <td>...</td>\n",
              "      <td>...</td>\n",
              "      <td>...</td>\n",
              "      <td>...</td>\n",
              "      <td>...</td>\n",
              "      <td>...</td>\n",
              "      <td>...</td>\n",
              "      <td>...</td>\n",
              "      <td>...</td>\n",
              "      <td>...</td>\n",
              "      <td>...</td>\n",
              "      <td>...</td>\n",
              "      <td>...</td>\n",
              "      <td>...</td>\n",
              "      <td>...</td>\n",
              "      <td>...</td>\n",
              "    </tr>\n",
              "    <tr>\n",
              "      <th>2390486</th>\n",
              "      <td>499</td>\n",
              "      <td>0.000000</td>\n",
              "      <td>0.000142</td>\n",
              "      <td>0.000142</td>\n",
              "      <td>0.005829</td>\n",
              "      <td>0.020342</td>\n",
              "      <td>0.015396</td>\n",
              "      <td>1</td>\n",
              "      <td>-1.649365</td>\n",
              "      <td>-1.169996</td>\n",
              "      <td>...</td>\n",
              "      <td>-1.896874</td>\n",
              "      <td>-1.260055</td>\n",
              "      <td>1.947725</td>\n",
              "      <td>-1.994399</td>\n",
              "      <td>-1.685163</td>\n",
              "      <td>-2.866165</td>\n",
              "      <td>-0.216130</td>\n",
              "      <td>-1.892048</td>\n",
              "      <td>0.901585</td>\n",
              "      <td>2390486</td>\n",
              "    </tr>\n",
              "    <tr>\n",
              "      <th>2390487</th>\n",
              "      <td>499</td>\n",
              "      <td>0.000000</td>\n",
              "      <td>0.000012</td>\n",
              "      <td>0.000012</td>\n",
              "      <td>-0.000935</td>\n",
              "      <td>-0.006326</td>\n",
              "      <td>-0.004718</td>\n",
              "      <td>1</td>\n",
              "      <td>2.432943</td>\n",
              "      <td>5.284504</td>\n",
              "      <td>...</td>\n",
              "      <td>-0.936553</td>\n",
              "      <td>1.064936</td>\n",
              "      <td>3.119762</td>\n",
              "      <td>-0.419796</td>\n",
              "      <td>-0.208975</td>\n",
              "      <td>-0.146749</td>\n",
              "      <td>0.730166</td>\n",
              "      <td>0.648452</td>\n",
              "      <td>2.068737</td>\n",
              "      <td>2390487</td>\n",
              "    </tr>\n",
              "    <tr>\n",
              "      <th>2390488</th>\n",
              "      <td>499</td>\n",
              "      <td>0.000000</td>\n",
              "      <td>0.000499</td>\n",
              "      <td>0.000499</td>\n",
              "      <td>0.007605</td>\n",
              "      <td>0.024907</td>\n",
              "      <td>0.016591</td>\n",
              "      <td>1</td>\n",
              "      <td>-0.622475</td>\n",
              "      <td>-0.963682</td>\n",
              "      <td>...</td>\n",
              "      <td>-2.956745</td>\n",
              "      <td>-0.640334</td>\n",
              "      <td>-2.279663</td>\n",
              "      <td>-0.950259</td>\n",
              "      <td>-4.388417</td>\n",
              "      <td>-1.669922</td>\n",
              "      <td>-3.288939</td>\n",
              "      <td>-1.336142</td>\n",
              "      <td>-2.814239</td>\n",
              "      <td>2390488</td>\n",
              "    </tr>\n",
              "    <tr>\n",
              "      <th>2390489</th>\n",
              "      <td>499</td>\n",
              "      <td>0.283405</td>\n",
              "      <td>-0.000156</td>\n",
              "      <td>-0.000156</td>\n",
              "      <td>-0.001375</td>\n",
              "      <td>-0.003702</td>\n",
              "      <td>-0.002004</td>\n",
              "      <td>-1</td>\n",
              "      <td>-1.463757</td>\n",
              "      <td>-1.107228</td>\n",
              "      <td>...</td>\n",
              "      <td>-2.035894</td>\n",
              "      <td>-1.780962</td>\n",
              "      <td>0.881246</td>\n",
              "      <td>-2.202140</td>\n",
              "      <td>-1.912601</td>\n",
              "      <td>-3.341684</td>\n",
              "      <td>-0.571188</td>\n",
              "      <td>-2.185795</td>\n",
              "      <td>0.627452</td>\n",
              "      <td>2390489</td>\n",
              "    </tr>\n",
              "    <tr>\n",
              "      <th>2390490</th>\n",
              "      <td>499</td>\n",
              "      <td>0.000000</td>\n",
              "      <td>-0.001855</td>\n",
              "      <td>-0.001855</td>\n",
              "      <td>-0.001194</td>\n",
              "      <td>-0.000864</td>\n",
              "      <td>-0.001905</td>\n",
              "      <td>-1</td>\n",
              "      <td>-1.817184</td>\n",
              "      <td>-1.131577</td>\n",
              "      <td>...</td>\n",
              "      <td>-0.571013</td>\n",
              "      <td>2.483421</td>\n",
              "      <td>8.284037</td>\n",
              "      <td>-0.698486</td>\n",
              "      <td>0.199953</td>\n",
              "      <td>-0.168395</td>\n",
              "      <td>2.051091</td>\n",
              "      <td>1.726072</td>\n",
              "      <td>5.823676</td>\n",
              "      <td>2390490</td>\n",
              "    </tr>\n",
              "  </tbody>\n",
              "</table>\n",
              "<p>2390491 rows × 138 columns</p>\n",
              "</div>"
            ],
            "text/plain": [
              "         date     weight    resp_1    resp_2    resp_3    resp_4      resp  \\\n",
              "0           0   0.000000  0.009916  0.014079  0.008773  0.001390  0.006270   \n",
              "1           0  16.673515 -0.002828 -0.003226 -0.007319 -0.011114 -0.009792   \n",
              "2           0   0.000000  0.025134  0.027607  0.033406  0.034380  0.023970   \n",
              "3           0   0.000000 -0.004730 -0.003273 -0.000461 -0.000476 -0.003200   \n",
              "4           0   0.138531  0.001252  0.002165 -0.001215 -0.006219 -0.002604   \n",
              "...       ...        ...       ...       ...       ...       ...       ...   \n",
              "2390486   499   0.000000  0.000142  0.000142  0.005829  0.020342  0.015396   \n",
              "2390487   499   0.000000  0.000012  0.000012 -0.000935 -0.006326 -0.004718   \n",
              "2390488   499   0.000000  0.000499  0.000499  0.007605  0.024907  0.016591   \n",
              "2390489   499   0.283405 -0.000156 -0.000156 -0.001375 -0.003702 -0.002004   \n",
              "2390490   499   0.000000 -0.001855 -0.001855 -0.001194 -0.000864 -0.001905   \n",
              "\n",
              "         feature_0  feature_1  feature_2  ...  feature_121  feature_122  \\\n",
              "0                1  -1.872746  -2.191242  ...          NaN     1.168391   \n",
              "1               -1  -1.349537  -1.704709  ...          NaN    -1.178850   \n",
              "2               -1   0.812780  -0.256156  ...          NaN     6.115747   \n",
              "3               -1   1.174378   0.344640  ...          NaN     2.838853   \n",
              "4                1  -3.172026  -3.093182  ...          NaN     0.344850   \n",
              "...            ...        ...        ...  ...          ...          ...   \n",
              "2390486          1  -1.649365  -1.169996  ...    -1.896874    -1.260055   \n",
              "2390487          1   2.432943   5.284504  ...    -0.936553     1.064936   \n",
              "2390488          1  -0.622475  -0.963682  ...    -2.956745    -0.640334   \n",
              "2390489         -1  -1.463757  -1.107228  ...    -2.035894    -1.780962   \n",
              "2390490         -1  -1.817184  -1.131577  ...    -0.571013     2.483421   \n",
              "\n",
              "         feature_123  feature_124  feature_125  feature_126  feature_127  \\\n",
              "0           8.313583     1.782433    14.018213     2.653056    12.600292   \n",
              "1           1.777472    -0.915458     2.831612    -1.417010     2.297459   \n",
              "2           9.667908     5.542871    11.671595     7.281757    10.060014   \n",
              "3           0.499251     3.033732     1.513488     4.397532     1.266037   \n",
              "4           4.101145     0.614252     6.623456     0.800129     5.233243   \n",
              "...              ...          ...          ...          ...          ...   \n",
              "2390486     1.947725    -1.994399    -1.685163    -2.866165    -0.216130   \n",
              "2390487     3.119762    -0.419796    -0.208975    -0.146749     0.730166   \n",
              "2390488    -2.279663    -0.950259    -4.388417    -1.669922    -3.288939   \n",
              "2390489     0.881246    -2.202140    -1.912601    -3.341684    -0.571188   \n",
              "2390490     8.284037    -0.698486     0.199953    -0.168395     2.051091   \n",
              "\n",
              "         feature_128  feature_129    ts_id  \n",
              "0           2.301488    11.445807        0  \n",
              "1          -1.304614     1.898684        1  \n",
              "2           6.638248     9.427299        2  \n",
              "3           3.856384     1.013469        3  \n",
              "4           0.362636     3.926633        4  \n",
              "...              ...          ...      ...  \n",
              "2390486    -1.892048     0.901585  2390486  \n",
              "2390487     0.648452     2.068737  2390487  \n",
              "2390488    -1.336142    -2.814239  2390488  \n",
              "2390489    -2.185795     0.627452  2390489  \n",
              "2390490     1.726072     5.823676  2390490  \n",
              "\n",
              "[2390491 rows x 138 columns]"
            ]
          },
          "execution_count": 3,
          "metadata": {},
          "output_type": "execute_result"
        }
      ],
      "source": [
        "data_df"
      ]
    },
    {
      "cell_type": "markdown",
      "id": "643249ad",
      "metadata": {
        "id": "643249ad"
      },
      "source": [
        "## Preprocessing"
      ]
    },
    {
      "cell_type": "code",
      "execution_count": null,
      "id": "bedff6a9",
      "metadata": {
        "id": "bedff6a9"
      },
      "outputs": [],
      "source": [
        "#ignore unrelated columns\n",
        "ignore_columns = ['resp_1', 'resp_2', 'resp_3', 'resp_4', 'resp','ts_id','date','weight']\n",
        "features_columns = [col for col in data_df.columns if col not in ignore_columns]"
      ]
    },
    {
      "cell_type": "code",
      "execution_count": null,
      "id": "04738ef8",
      "metadata": {
        "id": "04738ef8"
      },
      "outputs": [],
      "source": [
        "dataset=data_df.sort_values(by=['date', 'ts_id'])\n",
        "dataset['action'] = dataset[\"resp\"]*dataset[\"weight\"]\n",
        "#dataset['action'] = (dataset['resp'] > 0).astype('int')\n",
        "dataset.drop(columns=ignore_columns,inplace=True)"
      ]
    },
    {
      "cell_type": "markdown",
      "id": "b3f535c5",
      "metadata": {
        "id": "b3f535c5"
      },
      "source": [
        "NaN Values Distribution:"
      ]
    },
    {
      "cell_type": "code",
      "execution_count": null,
      "id": "08d8c01d",
      "metadata": {
        "id": "08d8c01d"
      },
      "outputs": [],
      "source": [
        "nan_stat=pd.DataFrame(columns=('feature_name','number'))\n",
        "for i in features_columns:\n",
        "    d=dataset[i].isna().value_counts()\n",
        "    num=d[True] if True in d else 0\n",
        "    row=pd.DataFrame({'feature_name':i,'number':num},index=[0])\n",
        "    nan_stat=nan_stat.append(row,ignore_index=True)"
      ]
    },
    {
      "cell_type": "code",
      "execution_count": null,
      "id": "bd00bb7d",
      "metadata": {
        "id": "bd00bb7d",
        "outputId": "021bc6b6-e5e2-458b-82d6-ead1b278b0ea"
      },
      "outputs": [
        {
          "data": {
            "image/png": "[encoded data removed]",
            "text/plain": [
              "<Figure size 1224x720 with 1 Axes>"
            ]
          },
          "metadata": {
            "needs_background": "light"
          },
          "output_type": "display_data"
        }
      ],
      "source": [
        "ax=nan_stat.plot.bar(y=\"number\",figsize=(17,10))\n",
        "ax.set_ylabel('NaN Number')\n",
        "ax.set_xlabel('Features')\n",
        "plt.show()"
      ]
    },
    {
      "cell_type": "markdown",
      "id": "b9cf3690",
      "metadata": {
        "id": "b9cf3690"
      },
      "source": [
        "Split into Train and Test Set:"
      ]
    },
    {
      "cell_type": "code",
      "execution_count": null,
      "id": "057e6c7b",
      "metadata": {
        "id": "057e6c7b"
      },
      "outputs": [],
      "source": [
        "data=dataset[:int(len(dataset)*0.01)] # due to weak GPU, we just 1 % data\n",
        "data_train,data_test=data[:int(len(data)*0.8)].copy(deep=True),data[int(len(data)*0.8):].copy(deep=True)"
      ]
    },
    {
      "cell_type": "markdown",
      "id": "e5a5535c",
      "metadata": {
        "id": "e5a5535c"
      },
      "source": [
        "Fill NaN Values:"
      ]
    },
    {
      "cell_type": "code",
      "execution_count": null,
      "id": "3daa4707",
      "metadata": {
        "id": "3daa4707"
      },
      "outputs": [],
      "source": [
        "data_train.fillna(data_train.mean(),inplace=True)\n",
        "data_test.fillna(data_train.mean(),inplace=True)"
      ]
    },
    {
      "cell_type": "markdown",
      "id": "8c253442",
      "metadata": {
        "id": "8c253442"
      },
      "source": [
        "Outliers Distribution"
      ]
    },
    {
      "cell_type": "code",
      "execution_count": null,
      "id": "3e24455d",
      "metadata": {
        "id": "3e24455d"
      },
      "outputs": [],
      "source": [
        "outlier_stat=pd.DataFrame(columns=('sigma','percent'))\n",
        "for sigma in range(10):\n",
        "    outliers={}\n",
        "    for i in features_columns:\n",
        "        mean = np.mean(data_train[i])\n",
        "        std = np.std(data_train[i])\n",
        "        low, high = mean - sigma * std, mean + sigma * std\n",
        "        outliers[i]=[low,high]\n",
        "    \n",
        "    s=set()\n",
        "    for i in features_columns:\n",
        "        for j in data_train[(data_train[i]<outliers[i][0]) | (data_train[i]>outliers[i][1])].index.values:\n",
        "            s.add(j)\n",
        "            \n",
        "    row=pd.DataFrame({'sigma':sigma,'percent':len(s)*100/len(data_train)},index=[0])\n",
        "    outlier_stat=outlier_stat.append(row,ignore_index=True)"
      ]
    },
    {
      "cell_type": "code",
      "execution_count": null,
      "id": "47fd991d",
      "metadata": {
        "id": "47fd991d",
        "outputId": "fde81053-baab-4715-c7e3-76adbe2bc28a"
      },
      "outputs": [
        {
          "data": {
            "image/png": "[encoded data removed]",
            "text/plain": [
              "<Figure size 720x576 with 1 Axes>"
            ]
          },
          "metadata": {
            "needs_background": "light"
          },
          "output_type": "display_data"
        }
      ],
      "source": [
        "ax=outlier_stat.plot.bar(y=\"percent\",figsize=(10,8))\n",
        "ax.set_ylabel('Percent (%)')\n",
        "ax.set_xlabel('Sigma')\n",
        "ax.set_yticks(range(0,105,5))\n",
        "plt.show()"
      ]
    },
    {
      "cell_type": "markdown",
      "id": "23436906",
      "metadata": {
        "id": "23436906"
      },
      "source": [
        "Drop Outliers:"
      ]
    },
    {
      "cell_type": "code",
      "execution_count": null,
      "id": "70d89c37",
      "metadata": {
        "id": "70d89c37"
      },
      "outputs": [],
      "source": [
        "outliers={}\n",
        "sigma=6\n",
        "for i in features_columns:\n",
        "    mean = np.mean(data_train[i])\n",
        "    std = np.std(data_train[i])\n",
        "    low, high = mean - sigma * std, mean + sigma * std\n",
        "    outliers[i]=[low,high]"
      ]
    },
    {
      "cell_type": "code",
      "execution_count": null,
      "id": "8efe56e1",
      "metadata": {
        "id": "8efe56e1"
      },
      "outputs": [],
      "source": [
        "def drop_outlier(df,features):\n",
        "    for i in features:\n",
        "        index=df[(df[i]<outliers[i][0]) | (df[i]>outliers[i][1])].index\n",
        "        df.drop(index=index,inplace=True)"
      ]
    },
    {
      "cell_type": "code",
      "execution_count": null,
      "id": "6d7bb860",
      "metadata": {
        "id": "6d7bb860"
      },
      "outputs": [],
      "source": [
        "drop_outlier(data_train,features_columns)\n",
        "#drop_outlier(data_test,features_columns)"
      ]
    },
    {
      "cell_type": "code",
      "execution_count": null,
      "id": "a58df162",
      "metadata": {
        "id": "a58df162"
      },
      "outputs": [],
      "source": [
        "X_train,Y_train=data_train[features_columns].to_numpy(),data_train[\"action\"].to_numpy()\n",
        "x_test,y_test=data_test[features_columns].to_numpy(),data_test[\"action\"].to_numpy()"
      ]
    },
    {
      "cell_type": "code",
      "execution_count": null,
      "id": "ccc4c5de",
      "metadata": {
        "id": "ccc4c5de"
      },
      "outputs": [],
      "source": [
        "data_Train,data_valid=data_train[:int(len(data_train)*0.8)],data_train[int(len(data_train)*0.8):]"
      ]
    },
    {
      "cell_type": "markdown",
      "id": "d1924310",
      "metadata": {
        "id": "d1924310"
      },
      "source": [
        "Standardization Features Data:"
      ]
    },
    {
      "cell_type": "code",
      "execution_count": null,
      "id": "535b378a",
      "metadata": {
        "id": "535b378a"
      },
      "outputs": [],
      "source": [
        "sc = StandardScaler()\n",
        "sc.fit(X_train)\n",
        "#sc.fit(x_test)\n",
        "X_train = sc.transform(X_train)\n",
        "x_test=sc.transform(x_test)"
      ]
    },
    {
      "cell_type": "markdown",
      "id": "32e81708",
      "metadata": {
        "id": "32e81708"
      },
      "source": [
        "Normalization Targets Data:"
      ]
    },
    {
      "cell_type": "code",
      "execution_count": null,
      "id": "483b11e3",
      "metadata": {
        "id": "483b11e3"
      },
      "outputs": [],
      "source": [
        "minn=Y_train.min()*(-1)\n",
        "maxn=Y_train.max()\n",
        "Y_train=np.frompyfunc(lambda x: x/maxn if x>=0 else x/minn, 1, 1)(Y_train).astype(np.float64)"
      ]
    },
    {
      "cell_type": "markdown",
      "id": "9dae0e55",
      "metadata": {
        "id": "9dae0e55"
      },
      "source": [
        "PCA:"
      ]
    },
    {
      "cell_type": "code",
      "execution_count": null,
      "id": "6e062f04",
      "metadata": {
        "id": "6e062f04"
      },
      "outputs": [],
      "source": [
        "pca = PCA()\n",
        "X_train=pca.fit_transform(X_train)"
      ]
    },
    {
      "cell_type": "markdown",
      "id": "861d653d",
      "metadata": {
        "id": "861d653d"
      },
      "source": [
        "Component Ratio Chart:"
      ]
    },
    {
      "cell_type": "code",
      "execution_count": null,
      "id": "80daa1ac",
      "metadata": {
        "id": "80daa1ac",
        "outputId": "a1969082-bad2-4a33-db56-12706dbc4f1e"
      },
      "outputs": [
        {
          "data": {
            "image/png": "[encoded data removed]",
            "text/plain": [
              "<Figure size 720x504 with 1 Axes>"
            ]
          },
          "metadata": {
            "needs_background": "light"
          },
          "output_type": "display_data"
        }
      ],
      "source": [
        "ax=plt.figure(figsize=(10,7))\n",
        "ecr=pca.explained_variance_ratio_\n",
        "plt.bar(np.array(range(len(ecr))), ecr, color='purple')\n",
        "plt.ylabel('Ratio')\n",
        "plt.xlabel('Features')\n",
        "plt.show()"
      ]
    },
    {
      "cell_type": "markdown",
      "id": "940b4ed4",
      "metadata": {
        "id": "940b4ed4"
      },
      "source": [
        "Keep 99% of Components"
      ]
    },
    {
      "cell_type": "code",
      "execution_count": null,
      "id": "3a28aee4",
      "metadata": {
        "scrolled": true,
        "id": "3a28aee4"
      },
      "outputs": [],
      "source": [
        "index=-1\n",
        "sumr=0\n",
        "for i in range(len(ecr)):\n",
        "    sumr+=ecr[i]\n",
        "    if sumr >0.99:\n",
        "        index=i\n",
        "        break;"
      ]
    },
    {
      "cell_type": "code",
      "execution_count": null,
      "id": "1c8e39ab",
      "metadata": {
        "id": "1c8e39ab"
      },
      "outputs": [],
      "source": [
        "X_train=X_train[:,:index+1]\n",
        "x_test=pca.transform(x_test)[:,:index+1]"
      ]
    },
    {
      "cell_type": "markdown",
      "id": "7a042c31",
      "metadata": {
        "id": "7a042c31"
      },
      "source": [
        "split into train and valid set:"
      ]
    },
    {
      "cell_type": "code",
      "execution_count": null,
      "id": "b0a2d037",
      "metadata": {
        "id": "b0a2d037"
      },
      "outputs": [],
      "source": [
        "x_train, x_valid, y_train, y_valid=train_test_split(X_train,Y_train,test_size=0.2, shuffle=False)"
      ]
    },
    {
      "cell_type": "markdown",
      "id": "51eaf254",
      "metadata": {
        "id": "51eaf254"
      },
      "source": [
        "## LSTM Model"
      ]
    },
    {
      "cell_type": "code",
      "execution_count": null,
      "id": "8187c897",
      "metadata": {
        "id": "8187c897"
      },
      "outputs": [],
      "source": [
        "#LSTM NN model\n",
        "class LSTMClassifier(nn.Module):\n",
        "    \"\"\"Very simple implementation of LSTM-based time-series classifier.\"\"\"\n",
        "    \n",
        "    def __init__(self, input_dim, hidden_dim, layer_dim, output_dim, dropout):\n",
        "        super().__init__()\n",
        "        self.hidden_dim = hidden_dim\n",
        "        self.layer_dim = layer_dim\n",
        "        self.rnn = nn.LSTM(input_dim, hidden_dim, layer_dim, batch_first=True, dropout=dropout)\n",
        "        self.fc = nn.Linear(hidden_dim, output_dim)\n",
        "    \n",
        "    def forward(self, x):\n",
        "        h0, c0 = self.init_hidden(x)\n",
        "        out, (hn, cn) = self.rnn(x, (h0, c0))\n",
        "        out = self.fc(out[:, -1, :])\n",
        "        return out\n",
        "    \n",
        "    def init_hidden(self, x):\n",
        "        h0 = torch.zeros(self.layer_dim, x.size(0), self.hidden_dim)\n",
        "        c0 = torch.zeros(self.layer_dim, x.size(0), self.hidden_dim)\n",
        "        return [t.to(device) for t in (h0, c0)]\n"
      ]
    },
    {
      "cell_type": "markdown",
      "id": "f4043cc3",
      "metadata": {
        "id": "f4043cc3"
      },
      "source": [
        "## Dataset"
      ]
    },
    {
      "cell_type": "code",
      "execution_count": null,
      "id": "ed1951de",
      "metadata": {
        "id": "ed1951de"
      },
      "outputs": [],
      "source": [
        "#Dataset class\n",
        "class Timeseries_Dataset(Dataset):\n",
        "    \"\"\"\n",
        "    Custom Dataset subclass.\n",
        "    Serves as input to DataLoader to transform X\n",
        "      into sequence data using rolling window.\n",
        "    DataLoader using this dataset will output batches\n",
        "      of `(batch_size, seq_len, n_features)` shape.\n",
        "    Suitable as an input to RNNs.\n",
        "    \"\"\"\n",
        "\n",
        "    def __init__(self, X: np.ndarray, y: np.ndarray, w: np.ndarray=None, r: np.ndarray=None, seq_len: int = 32):\n",
        "        self.X = torch.tensor(X).float()\n",
        "        self.y = torch.tensor(y).float().unsqueeze(1)\n",
        "        self.seq_len = seq_len\n",
        "        self.w = torch.tensor(w).float().unsqueeze(1) if w is not None else None\n",
        "        self.r = torch.tensor(r).float().unsqueeze(1) if r is not None else None\n",
        "    def __len__(self):\n",
        "        return self.X.__len__() - self.seq_len\n",
        "\n",
        "    def __getitem__(self, index):\n",
        "        return {'x': self.X[index:index + self.seq_len],\n",
        "                'y': self.y[index + self.seq_len-1],\n",
        "                'w': self.w[index + self.seq_len-1] if self.w is not None else [],\n",
        "                'r': self.r[index + self.seq_len-1] if self.r is not None else []}"
      ]
    },
    {
      "cell_type": "code",
      "execution_count": null,
      "id": "b030bbc3",
      "metadata": {
        "id": "b030bbc3"
      },
      "outputs": [],
      "source": [
        "seq_dim = 24\n",
        "batch_size = 380\n",
        "train_dataset = Timeseries_Dataset(X=x_train, y=y_train, w=data_df.loc[data_Train.index][\"weight\"].values,\n",
        "                                  r=data_df.loc[data_Train.index][\"resp\"].values, seq_len=seq_dim)\n",
        "validation_dataset = Timeseries_Dataset(X=x_valid, y=y_valid, w=data_df.loc[data_valid.index][\"weight\"].values,\n",
        "                                  r=data_df.loc[data_valid.index][\"resp\"].values, seq_len=seq_dim)\n",
        "test_dataset = Timeseries_Dataset(X=x_test, y=y_test,w=data_df.loc[data_test.index][\"weight\"].values,\n",
        "                                  r=data_df.loc[data_test.index][\"resp\"].values, seq_len=seq_dim)\n",
        "train_loader = DataLoader(train_dataset, batch_size=batch_size, shuffle=False)\n",
        "validation_loader = DataLoader(validation_dataset, batch_size=batch_size, shuffle=False)\n",
        "test_loader = DataLoader(test_dataset, batch_size=batch_size, shuffle=False)"
      ]
    },
    {
      "cell_type": "markdown",
      "id": "e4f0fc1a",
      "metadata": {
        "id": "e4f0fc1a"
      },
      "source": [
        "## Parameters of the Model"
      ]
    },
    {
      "cell_type": "code",
      "execution_count": null,
      "id": "79a2c691",
      "metadata": {
        "id": "79a2c691"
      },
      "outputs": [],
      "source": [
        "#parameters of the model\n",
        "dropout=0.0\n",
        "lr = 0.007\n",
        "input_dim = x_train.shape[1]\n",
        "hidden_dim = 140\n",
        "layer_dim = 1\n",
        "output_dim = 1\n",
        "num_epochs = 100\n",
        "#criterion = nn.CrossEntropyLoss()\n",
        "#criterion = nn.BCEWithLogitsLoss()\n",
        "criterion = nn.L1Loss()\n",
        "patience = 20\n",
        "model = LSTMClassifier(input_dim, hidden_dim, layer_dim, output_dim, dropout)\n",
        "optimizer = torch.optim.Adam(model.parameters(), lr=lr)"
      ]
    },
    {
      "cell_type": "markdown",
      "id": "f576d55a",
      "metadata": {
        "id": "f576d55a"
      },
      "source": [
        "## Training"
      ]
    },
    {
      "cell_type": "code",
      "execution_count": null,
      "id": "58809508",
      "metadata": {
        "scrolled": true,
        "id": "58809508",
        "outputId": "7df01360-0d9a-4a5c-d889-dce0d0d005e8"
      },
      "outputs": [
        {
          "name": "stdout",
          "output_type": "stream",
          "text": [
            "Start model training ...\n",
            "Epoch 1 loss: 0.0161\n",
            "Epoch 1 best model saved with loss: 0.0161, accuracy: 56.71%, auc: 0.51, score:-1.4158\n",
            "Epoch 2 loss: 0.0146\n",
            "Epoch 2 best model saved with loss: 0.0146, accuracy: 58.81%, auc: 0.48, score:-1.0592\n",
            "Epoch 3 loss: 0.0108\n",
            "Epoch 3 best model saved with loss: 0.0108, accuracy: 59.38%, auc: 0.54, score:2.4819\n",
            "Epoch 4 loss: 0.0166\n",
            "Epoch 5 loss: 0.0187\n",
            "Epoch 6 loss: 0.0103\n",
            "Epoch 7 loss: 0.0109\n",
            "Epoch 8 loss: 0.0110\n",
            "Epoch 9 loss: 0.0112\n",
            "Epoch 10 loss: 0.0117\n",
            "Epoch 11 loss: 0.0088\n",
            "Epoch 12 loss: 0.0107\n",
            "Epoch 12 best model saved with loss: 0.0107, accuracy: 58.25%, auc: 0.52, score:3.3901\n",
            "Epoch 13 loss: 0.0081\n",
            "Epoch 14 loss: 0.0117\n",
            "Epoch 15 loss: 0.0054\n",
            "Epoch 16 loss: 0.0067\n",
            "Epoch 17 loss: 0.0053\n",
            "Epoch 18 loss: 0.0059\n",
            "Epoch 19 loss: 0.0084\n",
            "Epoch 20 loss: 0.0053\n",
            "Epoch 21 loss: 0.0052\n",
            "Epoch 22 loss: 0.0052\n",
            "Epoch 23 loss: 0.0041\n",
            "Epoch 24 loss: 0.0045\n",
            "Epoch 25 loss: 0.0046\n",
            "Epoch 26 loss: 0.0047\n",
            "Epoch 27 loss: 0.0041\n",
            "Epoch 28 loss: 0.0059\n",
            "Epoch 29 loss: 0.0043\n",
            "Epoch 30 loss: 0.0044\n",
            "Epoch 31 loss: 0.0050\n",
            "Epoch 32 loss: 0.0053\n",
            "Early stopping on epoch 32\n",
            "Training Complete !!!\n"
          ]
        }
      ],
      "source": [
        "weight = 'C:\\\\Users\\\\55373\\\\Desktop\\\\lstm\\\\best_30.pth'\n",
        "\n",
        "#training\n",
        "phase_training = True\n",
        "if os.path.exists(weight):\n",
        "    phase_training = False\n",
        "\n",
        "device = torch.device('cuda:0' if torch.cuda.is_available() else 'cpu')\n",
        "model = model.to(device)\n",
        "if phase_training:  \n",
        "    print('Start model training ...')\n",
        "    best, best_auc, best_acc = float(\"-inf\"), 0, 0\n",
        "    trials = 0\n",
        "    for epoch in range(1, num_epochs + 1):\n",
        "        #train\n",
        "        model.train()\n",
        "        for train_batch in train_loader:\n",
        "            optimizer.zero_grad()\n",
        "            features = train_batch['x'].to(device)\n",
        "            targets = train_batch['y'].to(device)\n",
        "            preds = model(features)\n",
        "            loss = criterion(preds, targets)\n",
        "            \n",
        "            loss.backward()\n",
        "            optimizer.step()\n",
        "\n",
        "        print(f'Epoch {epoch} loss: {loss.item():.4f}')\n",
        "        #\n",
        "        model.eval()\n",
        "        correct, total, auc, score = 0, 0, 0, 0\n",
        "        with torch.no_grad():\n",
        "            for valid_batch in validation_loader:\n",
        "                features = valid_batch['x'].to(device)\n",
        "                targets = valid_batch['y'].to(device)\n",
        "                outputs = model(features)\n",
        "                \n",
        "                probas= torch.sigmoid(outputs)\n",
        "                preds = torch.where(probas>0.5,torch.ones_like(probas),torch.zeros_like(probas))\n",
        "                targets= torch.where(targets>0,torch.ones_like(targets),torch.zeros_like(targets))\n",
        "#                 probas= F.softmax(outputs, 1)\n",
        "#                 preds = torch.argmax(probas,1)\n",
        "                total += targets.size(0)\n",
        "                correct += (preds == targets).sum().item()\n",
        "                \n",
        "                weights=valid_batch['w'].to(device)\n",
        "                resps=valid_batch['r'].to(device)\n",
        "                score+=(weights*resps*preds).sum().item()\n",
        "                \n",
        "                auc+=roc_auc_score(targets.cpu().detach().numpy(), probas.cpu().detach().numpy())*targets.size(0)\n",
        "                #auc+=roc_auc_score(targets.cpu().detach().numpy(), probas[:,1].cpu().detach().numpy())*targets.size(0)\n",
        "                \n",
        "        test_acc = correct / total  \n",
        "        test_auc = auc / total \n",
        "        \n",
        "        if score > best:\n",
        "            trials = 0\n",
        "            best = score\n",
        "            best_auc = test_auc\n",
        "            torch.save(model.state_dict(), 'best.pth')\n",
        "            print(f'Epoch {epoch} best model saved with loss: {loss.item():.4f}, accuracy: {test_acc:2.2%}, auc: {test_auc:.2}, score:{score:.5}')\n",
        "        else:\n",
        "            trials += 1\n",
        "            if trials >= patience:\n",
        "                print(f'Early stopping on epoch {epoch}')\n",
        "                break\n",
        "    print('Training Complete !!!')"
      ]
    },
    {
      "cell_type": "markdown",
      "id": "b69865d3",
      "metadata": {
        "id": "b69865d3"
      },
      "source": [
        "## Testing"
      ]
    },
    {
      "cell_type": "code",
      "execution_count": null,
      "id": "a8e45fef",
      "metadata": {
        "id": "a8e45fef",
        "outputId": "9a9fb416-d731-4c2d-9576-e7f7ad3b0ca4"
      },
      "outputs": [
        {
          "name": "stdout",
          "output_type": "stream",
          "text": [
            "Test accuracy: 56.70%\n",
            "Auc score: 0.56\n",
            "Model score: 7.2518\n"
          ]
        }
      ],
      "source": [
        "#test\n",
        "if phase_training:\n",
        "    model.load_state_dict(torch.load('best.pth'))\n",
        "else:\n",
        "    model.load_state_dict(torch.load(weight))\n",
        "    \n",
        "model.eval()\n",
        "correct, total, auc, score = 0, 0, 0, 0\n",
        "with torch.no_grad():   \n",
        "    for idx,test_batch in enumerate(test_loader):\n",
        "        features = test_batch['x'].to(device)\n",
        "        targets = test_batch['y'].to(device)\n",
        "        outputs = model(features)\n",
        "        \n",
        "        probas= torch.sigmoid(outputs)\n",
        "        preds = torch.where(probas>0.5,torch.ones_like(probas),torch.zeros_like(probas))\n",
        "        targets= torch.where(targets>0,torch.ones_like(targets),torch.zeros_like(targets))\n",
        "#         probas= F.softmax(outputs, 1)\n",
        "#         preds = torch.argmax(probas,1)      \n",
        "        total += targets.size(0)\n",
        "        correct += (preds == targets).sum().item()\n",
        "        \n",
        "        weights=test_batch['w'].to(device)\n",
        "        resps=test_batch['r'].to(device)\n",
        "        score+=(weights*resps*preds).sum().item()\n",
        "        \n",
        "        auc+=roc_auc_score(targets.cpu().detach().numpy(), probas.cpu().detach().numpy())*targets.size(0)\n",
        "        #auc+=roc_auc_score(targets.cpu().detach().numpy(), probas[:,1].cpu().detach().numpy())*targets.size(0)\n",
        "        \n",
        "test_acc = correct / total\n",
        "test_auc = auc / total\n",
        "print(f'Test accuracy: {test_acc:2.2%}')\n",
        "print(f'Auc score: {test_auc:.2}')\n",
        "print(f'Model score: {score:.5}')\n"
      ]
    },
    {
      "cell_type": "markdown",
      "id": "bd7de959",
      "metadata": {
        "id": "bd7de959"
      },
      "source": [
        "## Baseline"
      ]
    },
    {
      "cell_type": "markdown",
      "id": "0e88489a",
      "metadata": {
        "id": "0e88489a"
      },
      "source": [
        "### Predict 1 All the Time"
      ]
    },
    {
      "cell_type": "code",
      "execution_count": null,
      "id": "5ffdd800",
      "metadata": {
        "id": "5ffdd800",
        "outputId": "d30b7670-8ad8-45ee-8ad5-e23751d2b6a0"
      },
      "outputs": [
        {
          "name": "stdout",
          "output_type": "stream",
          "text": [
            "Test accuracy: 39.31%\n",
            "Auc score: 0.5\n",
            "Model score: 2.5315\n"
          ]
        }
      ],
      "source": [
        "correct, total, auc, score = 0, 0, 0, 0 \n",
        "for idx,test_batch in enumerate(test_loader):\n",
        "    targets = test_batch['y'].to(device)\n",
        "    targets= torch.where(targets>0,torch.ones_like(targets),torch.zeros_like(targets))\n",
        "    probas = torch.tensor([[1]]* targets.size(0)).float().to(device)\n",
        "    preds = torch.where(probas>0.5,torch.ones_like(probas),torch.zeros_like(probas))\n",
        "#     probas = torch.tensor([[0,1]]* targets.size(0)).float().to(device)\n",
        "#     preds = torch.argmax(probas,1)\n",
        "    total += targets.size(0)\n",
        "    correct += (preds == targets).sum().item()\n",
        "\n",
        "    weights=test_batch['w'].to(device)\n",
        "    resps=test_batch['r'].to(device)\n",
        "    score+=(weights*resps*preds).sum().item()\n",
        "    \n",
        "    auc+=roc_auc_score(targets.cpu().detach().numpy(), probas.cpu().detach().numpy())*targets.size(0)\n",
        "    #auc+=roc_auc_score(targets.cpu().detach().numpy(), probas[:,1].cpu().detach().numpy())*targets.size(0)\n",
        "    \n",
        "test_acc = correct / total\n",
        "test_auc = auc / total\n",
        "print(f'Test accuracy: {test_acc:2.2%}')\n",
        "print(f'Auc score: {test_auc:.2}')\n",
        "print(f'Model score: {score:.5}')"
      ]
    },
    {
      "cell_type": "markdown",
      "id": "cd27d2de",
      "metadata": {
        "id": "cd27d2de"
      },
      "source": [
        "### Randomly Predict"
      ]
    },
    {
      "cell_type": "code",
      "execution_count": null,
      "id": "7928cc5d",
      "metadata": {
        "id": "7928cc5d",
        "outputId": "69fd5b60-9ff0-4c06-a2ed-12a1201ac3ce"
      },
      "outputs": [
        {
          "name": "stdout",
          "output_type": "stream",
          "text": [
            "Test accuracy: 46.12%\n",
            "Auc score: 0.5\n",
            "Model score: 1.1776\n"
          ]
        }
      ],
      "source": [
        "correct, total, auc, score = 0, 0, 0, 0 \n",
        "for idx,test_batch in enumerate(test_loader):\n",
        "    targets = test_batch['y'].to(device)\n",
        "    targets= torch.where(targets>0,torch.ones_like(targets),torch.zeros_like(targets))\n",
        "    rand=random.choice([0,1])\n",
        "    probas = torch.tensor([[rand]]* targets.size(0)).float().to(device)\n",
        "    preds = torch.where(probas>0.5,torch.ones_like(probas),torch.zeros_like(probas))\n",
        "#     probas = torch.tensor([[rand,1-rand]]* targets.size(0)).float().to(device)\n",
        "#     preds = torch.argmax(probas,1)\n",
        "    total += targets.size(0)\n",
        "    correct += (preds == targets).sum().item()\n",
        "\n",
        "    weights=test_batch['w'].to(device)\n",
        "    resps=test_batch['r'].to(device)\n",
        "    score+=(weights*resps*preds).sum().item()\n",
        "    \n",
        "    auc+=roc_auc_score(targets.cpu().detach().numpy(), probas.cpu().detach().numpy())*targets.size(0)\n",
        "    #auc+=roc_auc_score(targets.cpu().detach().numpy(), probas[:,1].cpu().detach().numpy())*targets.size(0)\n",
        "    \n",
        "test_acc = correct / total\n",
        "test_auc = auc / total\n",
        "print(f'Test accuracy: {test_acc:2.2%}')\n",
        "print(f'Auc score: {test_auc:.2}')\n",
        "print(f'Model score: {score:.5}')"
      ]
    },
    {
      "cell_type": "code",
      "execution_count": null,
      "id": "0dcea86f",
      "metadata": {
        "id": "0dcea86f"
      },
      "outputs": [],
      "source": [
        ""
      ]
    },
    {
      "cell_type": "code",
      "execution_count": null,
      "id": "bac34307",
      "metadata": {
        "id": "bac34307"
      },
      "outputs": [],
      "source": [
        ""
      ]
    }
  ],
  "metadata": {
    "kernelspec": {
      "display_name": "Python 3",
      "language": "python",
      "name": "python3"
    },
    "language_info": {
      "codemirror_mode": {
        "name": "ipython",
        "version": 3
      },
      "file_extension": ".py",
      "mimetype": "text/x-python",
      "name": "python",
      "nbconvert_exporter": "python",
      "pygments_lexer": "ipython3",
      "version": "3.8.8"
    },
    "colab": {
      "name": "lstm_stock_market.ipynb",
      "provenance": [],
      "collapsed_sections": [
        "0e88489a",
        "cd27d2de"
      ],
      "include_colab_link": true
    }
  },
  "nbformat": 4,
  "nbformat_minor": 5
}