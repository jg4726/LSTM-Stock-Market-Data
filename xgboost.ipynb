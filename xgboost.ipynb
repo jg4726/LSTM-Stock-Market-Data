{
  "nbformat": 4,
  "nbformat_minor": 5,
  "metadata": {
    "colab": {
      "name": "xgboost.ipynb",
      "provenance": [],
      "include_colab_link": true
    },
    "kernelspec": {
      "display_name": "Python 3",
      "language": "python",
      "name": "python3"
    },
    "language_info": {
      "codemirror_mode": {
        "name": "ipython",
        "version": 3
      },
      "file_extension": ".py",
      "mimetype": "text/x-python",
      "name": "python",
      "nbconvert_exporter": "python",
      "pygments_lexer": "ipython3",
      "version": "3.8.8"
    }
  },
  "cells": [
    {
      "cell_type": "markdown",
      "metadata": {
        "id": "view-in-github",
        "colab_type": "text"
      },
      "source": [
        "<a href=\"https://colab.research.google.com/github/jg4726/public-file/blob/main/xgboost.ipynb\" target=\"_parent\"><img src=\"https://colab.research.google.com/assets/colab-badge.svg\" alt=\"Open In Colab\"/></a>"
      ]
    },
    {
      "cell_type": "code",
      "metadata": {
        "colab": {
          "base_uri": "https://localhost:8080/"
        },
        "id": "91effb66",
        "outputId": "86165f91-dbc1-4d95-cb83-69d0a4cb3231"
      },
      "source": [
        "pip install xgboost\n",
        "\n"
      ],
      "id": "91effb66",
      "execution_count": null,
      "outputs": [
        {
          "name": "stdout",
          "output_type": "stream",
          "text": [
            "Requirement already satisfied: xgboost in /usr/local/lib/python3.7/dist-packages (0.90)\n",
            "Requirement already satisfied: numpy in /usr/local/lib/python3.7/dist-packages (from xgboost) (1.19.5)\n",
            "Requirement already satisfied: scipy in /usr/local/lib/python3.7/dist-packages (from xgboost) (1.4.1)\n"
          ]
        }
      ]
    },
    {
      "cell_type": "code",
      "metadata": {
        "colab": {
          "base_uri": "https://localhost:8080/"
        },
        "id": "1cdac0e5",
        "outputId": "18c10bf9-2486-481d-eadb-dc3998ba421d"
      },
      "source": [
        "pip install datatable"
      ],
      "id": "1cdac0e5",
      "execution_count": null,
      "outputs": [
        {
          "name": "stdout",
          "output_type": "stream",
          "text": [
            "Requirement already satisfied: datatable in /usr/local/lib/python3.7/dist-packages (1.0.0)\n"
          ]
        }
      ]
    },
    {
      "cell_type": "code",
      "metadata": {
        "id": "74757245"
      },
      "source": [
        "pip install -U -q PyDrive"
      ],
      "id": "74757245",
      "execution_count": null,
      "outputs": []
    },
    {
      "cell_type": "code",
      "metadata": {
        "colab": {
          "base_uri": "https://localhost:8080/"
        },
        "id": "lD3_2vWOzUYC",
        "outputId": "076a39bb-1f4c-42f4-de17-7a1049235bc2"
      },
      "source": [
        "from google.colab import drive\n",
        "drive.mount('/content/drive')"
      ],
      "id": "lD3_2vWOzUYC",
      "execution_count": null,
      "outputs": [
        {
          "output_type": "stream",
          "name": "stdout",
          "text": [
            "Mounted at /content/drive\n"
          ]
        }
      ]
    },
    {
      "cell_type": "code",
      "metadata": {
        "id": "HvpCoMGM1t7p"
      },
      "source": [
        "data = dt.fread(\"/content/drive/MyDrive/jane_street_train.jay\").to_pandas()"
      ],
      "id": "HvpCoMGM1t7p",
      "execution_count": null,
      "outputs": []
    },
    {
      "cell_type": "code",
      "metadata": {
        "id": "GXDvS4Kn-9Z8"
      },
      "source": [
        "testing = data[:20000]"
      ],
      "id": "GXDvS4Kn-9Z8",
      "execution_count": null,
      "outputs": []
    },
    {
      "cell_type": "code",
      "metadata": {
        "id": "tNmg3TUO_07H"
      },
      "source": [
        "def reduce_memory_usage(df):   \n",
        "    start_memory = df.memory_usage().sum() / 1024**2\n",
        "    print(f\"Memory usage of dataframe is {start_memory} MB\")\n",
        "    \n",
        "    df = df.astype({c: np.float32 for c in df.select_dtypes(include='float64').columns}) \n",
        "    \n",
        "    end_memory = df.memory_usage().sum() / 1024**2\n",
        "    print(f\"Memory usage of dataframe after reduction {end_memory} MB\")\n",
        "    print(f\"Reduced by {100 * (start_memory - end_memory) / start_memory} % \")\n",
        "    return df"
      ],
      "id": "tNmg3TUO_07H",
      "execution_count": null,
      "outputs": []
    },
    {
      "cell_type": "code",
      "metadata": {
        "id": "PmcZg__xAEue"
      },
      "source": [
        "import os\n",
        "from time import time\n",
        "import multiprocessing\n",
        "import gc\n",
        "\n",
        "import numpy as np\n",
        "from numpy import percentile\n",
        "import pandas as pd\n",
        "\n",
        "import xgboost as xgb\n",
        "import datatable as dt"
      ],
      "id": "PmcZg__xAEue",
      "execution_count": null,
      "outputs": []
    },
    {
      "cell_type": "code",
      "metadata": {
        "colab": {
          "base_uri": "https://localhost:8080/"
        },
        "id": "VI2b-_WGAGWo",
        "outputId": "751c1fdc-dfa5-458a-9527-401ca1917eb6"
      },
      "source": [
        "t0=time()\n",
        "\n",
        "testing = reduce_memory_usage(testing)\n",
        "testing=testing[data.weight!=0]\n",
        "print(\"Load data finished in %0.3fs\" % (time() - t0))\n",
        "\n",
        "# Settings\n",
        "NAN_VALUE = -9999\n",
        "features = [c for c in testing.columns if 'feature' in c]\n",
        "targets = [c for c in testing.columns if 'resp' in c]\n",
        "\n",
        "t0=time()\n",
        "# split data into X (features) and Y (target)\n",
        "X = testing.loc[:, features]\n",
        "X = X.fillna(NAN_VALUE)\n",
        "print(\"Define data features X and target Y finished in %0.3fs\" % (time() - t0))"
      ],
      "id": "VI2b-_WGAGWo",
      "execution_count": null,
      "outputs": [
        {
          "output_type": "stream",
          "name": "stdout",
          "text": [
            "Memory usage of dataframe is 10.5286865234375 MB\n",
            "Memory usage of dataframe after reduction 5.37884521484375 MB\n",
            "Reduced by 48.91247637708548 % \n",
            "Load data finished in 0.079s\n",
            "Define data features X and target Y finished in 0.008s\n"
          ]
        },
        {
          "output_type": "stream",
          "name": "stderr",
          "text": [
            "/usr/local/lib/python3.7/dist-packages/ipykernel_launcher.py:4: UserWarning: Boolean Series key will be reindexed to match DataFrame index.\n",
            "  after removing the cwd from sys.path.\n"
          ]
        }
      ]
    },
    {
      "cell_type": "code",
      "metadata": {
        "colab": {
          "base_uri": "https://localhost:8080/",
          "height": 768
        },
        "id": "VwXtNEkfALFP",
        "outputId": "5bd66c2d-6d82-4810-9463-02c53d91e787"
      },
      "source": [
        "models=[]\n",
        "\n",
        "n = 0\n",
        "for target in targets:\n",
        "    Y = (testing.loc[:, target] > 0).astype(int)\n",
        "    t0=time()\n",
        "    # Train model\n",
        "    model = xgb.XGBClassifier(\n",
        "        n_estimators=500,\n",
        "        max_depth=11,\n",
        "        learning_rate=0.05,\n",
        "        subsample=0.9,\n",
        "        colsample_bytree=0.7,\n",
        "        random_state=2020,\n",
        "        tree_method='gpu_hist',\n",
        "        nthread=multiprocessing.cpu_count()\n",
        "    )\n",
        "    model.fit(X, Y)\n",
        "    models.append(model)\n",
        "    print(\"Training model finished in %0.3fs\" % (time() - t0))"
      ],
      "id": "VwXtNEkfALFP",
      "execution_count": null,
      "outputs": [
        {
          "output_type": "error",
          "ename": "XGBoostError",
          "evalue": "ignored",
          "traceback": [
            "\u001b[0;31m---------------------------------------------------------------------------\u001b[0m",
            "\u001b[0;31mXGBoostError\u001b[0m                              Traceback (most recent call last)",
            "\u001b[0;32m<ipython-input-15-982cbf9e6ac9>\u001b[0m in \u001b[0;36m<module>\u001b[0;34m()\u001b[0m\n\u001b[1;32m     16\u001b[0m         \u001b[0mnthread\u001b[0m\u001b[0;34m=\u001b[0m\u001b[0mmultiprocessing\u001b[0m\u001b[0;34m.\u001b[0m\u001b[0mcpu_count\u001b[0m\u001b[0;34m(\u001b[0m\u001b[0;34m)\u001b[0m\u001b[0;34m\u001b[0m\u001b[0;34m\u001b[0m\u001b[0m\n\u001b[1;32m     17\u001b[0m     )\n\u001b[0;32m---> 18\u001b[0;31m     \u001b[0mmodel\u001b[0m\u001b[0;34m.\u001b[0m\u001b[0mfit\u001b[0m\u001b[0;34m(\u001b[0m\u001b[0mX\u001b[0m\u001b[0;34m,\u001b[0m \u001b[0mY\u001b[0m\u001b[0;34m)\u001b[0m\u001b[0;34m\u001b[0m\u001b[0;34m\u001b[0m\u001b[0m\n\u001b[0m\u001b[1;32m     19\u001b[0m     \u001b[0mmodels\u001b[0m\u001b[0;34m.\u001b[0m\u001b[0mappend\u001b[0m\u001b[0;34m(\u001b[0m\u001b[0mmodel\u001b[0m\u001b[0;34m)\u001b[0m\u001b[0;34m\u001b[0m\u001b[0;34m\u001b[0m\u001b[0m\n\u001b[1;32m     20\u001b[0m     \u001b[0mprint\u001b[0m\u001b[0;34m(\u001b[0m\u001b[0;34m\"Training model finished in %0.3fs\"\u001b[0m \u001b[0;34m%\u001b[0m \u001b[0;34m(\u001b[0m\u001b[0mtime\u001b[0m\u001b[0;34m(\u001b[0m\u001b[0;34m)\u001b[0m \u001b[0;34m-\u001b[0m \u001b[0mt0\u001b[0m\u001b[0;34m)\u001b[0m\u001b[0;34m)\u001b[0m\u001b[0;34m\u001b[0m\u001b[0;34m\u001b[0m\u001b[0m\n",
            "\u001b[0;32m/usr/local/lib/python3.7/dist-packages/xgboost/sklearn.py\u001b[0m in \u001b[0;36mfit\u001b[0;34m(self, X, y, sample_weight, eval_set, eval_metric, early_stopping_rounds, verbose, xgb_model, sample_weight_eval_set, callbacks)\u001b[0m\n\u001b[1;32m    730\u001b[0m                               \u001b[0mevals_result\u001b[0m\u001b[0;34m=\u001b[0m\u001b[0mevals_result\u001b[0m\u001b[0;34m,\u001b[0m \u001b[0mobj\u001b[0m\u001b[0;34m=\u001b[0m\u001b[0mobj\u001b[0m\u001b[0;34m,\u001b[0m \u001b[0mfeval\u001b[0m\u001b[0;34m=\u001b[0m\u001b[0mfeval\u001b[0m\u001b[0;34m,\u001b[0m\u001b[0;34m\u001b[0m\u001b[0;34m\u001b[0m\u001b[0m\n\u001b[1;32m    731\u001b[0m                               \u001b[0mverbose_eval\u001b[0m\u001b[0;34m=\u001b[0m\u001b[0mverbose\u001b[0m\u001b[0;34m,\u001b[0m \u001b[0mxgb_model\u001b[0m\u001b[0;34m=\u001b[0m\u001b[0mxgb_model\u001b[0m\u001b[0;34m,\u001b[0m\u001b[0;34m\u001b[0m\u001b[0;34m\u001b[0m\u001b[0m\n\u001b[0;32m--> 732\u001b[0;31m                               callbacks=callbacks)\n\u001b[0m\u001b[1;32m    733\u001b[0m \u001b[0;34m\u001b[0m\u001b[0m\n\u001b[1;32m    734\u001b[0m         \u001b[0mself\u001b[0m\u001b[0;34m.\u001b[0m\u001b[0mobjective\u001b[0m \u001b[0;34m=\u001b[0m \u001b[0mxgb_options\u001b[0m\u001b[0;34m[\u001b[0m\u001b[0;34m\"objective\"\u001b[0m\u001b[0;34m]\u001b[0m\u001b[0;34m\u001b[0m\u001b[0;34m\u001b[0m\u001b[0m\n",
            "\u001b[0;32m/usr/local/lib/python3.7/dist-packages/xgboost/training.py\u001b[0m in \u001b[0;36mtrain\u001b[0;34m(params, dtrain, num_boost_round, evals, obj, feval, maximize, early_stopping_rounds, evals_result, verbose_eval, xgb_model, callbacks, learning_rates)\u001b[0m\n\u001b[1;32m    214\u001b[0m                            \u001b[0mevals\u001b[0m\u001b[0;34m=\u001b[0m\u001b[0mevals\u001b[0m\u001b[0;34m,\u001b[0m\u001b[0;34m\u001b[0m\u001b[0;34m\u001b[0m\u001b[0m\n\u001b[1;32m    215\u001b[0m                            \u001b[0mobj\u001b[0m\u001b[0;34m=\u001b[0m\u001b[0mobj\u001b[0m\u001b[0;34m,\u001b[0m \u001b[0mfeval\u001b[0m\u001b[0;34m=\u001b[0m\u001b[0mfeval\u001b[0m\u001b[0;34m,\u001b[0m\u001b[0;34m\u001b[0m\u001b[0;34m\u001b[0m\u001b[0m\n\u001b[0;32m--> 216\u001b[0;31m                            xgb_model=xgb_model, callbacks=callbacks)\n\u001b[0m\u001b[1;32m    217\u001b[0m \u001b[0;34m\u001b[0m\u001b[0m\n\u001b[1;32m    218\u001b[0m \u001b[0;34m\u001b[0m\u001b[0m\n",
            "\u001b[0;32m/usr/local/lib/python3.7/dist-packages/xgboost/training.py\u001b[0m in \u001b[0;36m_train_internal\u001b[0;34m(params, dtrain, num_boost_round, evals, obj, feval, xgb_model, callbacks)\u001b[0m\n\u001b[1;32m     72\u001b[0m         \u001b[0;31m# Skip the first update if it is a recovery step.\u001b[0m\u001b[0;34m\u001b[0m\u001b[0;34m\u001b[0m\u001b[0;34m\u001b[0m\u001b[0m\n\u001b[1;32m     73\u001b[0m         \u001b[0;32mif\u001b[0m \u001b[0mversion\u001b[0m \u001b[0;34m%\u001b[0m \u001b[0;36m2\u001b[0m \u001b[0;34m==\u001b[0m \u001b[0;36m0\u001b[0m\u001b[0;34m:\u001b[0m\u001b[0;34m\u001b[0m\u001b[0;34m\u001b[0m\u001b[0m\n\u001b[0;32m---> 74\u001b[0;31m             \u001b[0mbst\u001b[0m\u001b[0;34m.\u001b[0m\u001b[0mupdate\u001b[0m\u001b[0;34m(\u001b[0m\u001b[0mdtrain\u001b[0m\u001b[0;34m,\u001b[0m \u001b[0mi\u001b[0m\u001b[0;34m,\u001b[0m \u001b[0mobj\u001b[0m\u001b[0;34m)\u001b[0m\u001b[0;34m\u001b[0m\u001b[0;34m\u001b[0m\u001b[0m\n\u001b[0m\u001b[1;32m     75\u001b[0m             \u001b[0mbst\u001b[0m\u001b[0;34m.\u001b[0m\u001b[0msave_rabit_checkpoint\u001b[0m\u001b[0;34m(\u001b[0m\u001b[0;34m)\u001b[0m\u001b[0;34m\u001b[0m\u001b[0;34m\u001b[0m\u001b[0m\n\u001b[1;32m     76\u001b[0m             \u001b[0mversion\u001b[0m \u001b[0;34m+=\u001b[0m \u001b[0;36m1\u001b[0m\u001b[0;34m\u001b[0m\u001b[0;34m\u001b[0m\u001b[0m\n",
            "\u001b[0;32m/usr/local/lib/python3.7/dist-packages/xgboost/core.py\u001b[0m in \u001b[0;36mupdate\u001b[0;34m(self, dtrain, iteration, fobj)\u001b[0m\n\u001b[1;32m   1107\u001b[0m         \u001b[0;32mif\u001b[0m \u001b[0mfobj\u001b[0m \u001b[0;32mis\u001b[0m \u001b[0;32mNone\u001b[0m\u001b[0;34m:\u001b[0m\u001b[0;34m\u001b[0m\u001b[0;34m\u001b[0m\u001b[0m\n\u001b[1;32m   1108\u001b[0m             _check_call(_LIB.XGBoosterUpdateOneIter(self.handle, ctypes.c_int(iteration),\n\u001b[0;32m-> 1109\u001b[0;31m                                                     dtrain.handle))\n\u001b[0m\u001b[1;32m   1110\u001b[0m         \u001b[0;32melse\u001b[0m\u001b[0;34m:\u001b[0m\u001b[0;34m\u001b[0m\u001b[0;34m\u001b[0m\u001b[0m\n\u001b[1;32m   1111\u001b[0m             \u001b[0mpred\u001b[0m \u001b[0;34m=\u001b[0m \u001b[0mself\u001b[0m\u001b[0;34m.\u001b[0m\u001b[0mpredict\u001b[0m\u001b[0;34m(\u001b[0m\u001b[0mdtrain\u001b[0m\u001b[0;34m)\u001b[0m\u001b[0;34m\u001b[0m\u001b[0;34m\u001b[0m\u001b[0m\n",
            "\u001b[0;32m/usr/local/lib/python3.7/dist-packages/xgboost/core.py\u001b[0m in \u001b[0;36m_check_call\u001b[0;34m(ret)\u001b[0m\n\u001b[1;32m    174\u001b[0m     \"\"\"\n\u001b[1;32m    175\u001b[0m     \u001b[0;32mif\u001b[0m \u001b[0mret\u001b[0m \u001b[0;34m!=\u001b[0m \u001b[0;36m0\u001b[0m\u001b[0;34m:\u001b[0m\u001b[0;34m\u001b[0m\u001b[0;34m\u001b[0m\u001b[0m\n\u001b[0;32m--> 176\u001b[0;31m         \u001b[0;32mraise\u001b[0m \u001b[0mXGBoostError\u001b[0m\u001b[0;34m(\u001b[0m\u001b[0mpy_str\u001b[0m\u001b[0;34m(\u001b[0m\u001b[0m_LIB\u001b[0m\u001b[0;34m.\u001b[0m\u001b[0mXGBGetLastError\u001b[0m\u001b[0;34m(\u001b[0m\u001b[0;34m)\u001b[0m\u001b[0;34m)\u001b[0m\u001b[0;34m)\u001b[0m\u001b[0;34m\u001b[0m\u001b[0;34m\u001b[0m\u001b[0m\n\u001b[0m\u001b[1;32m    177\u001b[0m \u001b[0;34m\u001b[0m\u001b[0m\n\u001b[1;32m    178\u001b[0m \u001b[0;34m\u001b[0m\u001b[0m\n",
            "\u001b[0;31mXGBoostError\u001b[0m: [06:58:20] /workspace/src/tree/updater_gpu_hist.cu:1407: Exception in gpu_hist: NCCL failure :unhandled cuda error /workspace/src/tree/../common/device_helpers.cuh(896)\n\nStack trace:\n  [bt] (0) /usr/local/lib/python3.7/dist-packages/xgboost/./lib/libxgboost.so(dmlc::LogMessageFatal::~LogMessageFatal()+0x24) [0x7ff323754cb4]\n  [bt] (1) /usr/local/lib/python3.7/dist-packages/xgboost/./lib/libxgboost.so(xgboost::tree::GPUHistMakerSpecialised<xgboost::detail::GradientPairInternal<double> >::Update(xgboost::HostDeviceVector<xgboost::detail::GradientPairInternal<float> >*, xgboost::DMatrix*, std::vector<xgboost::RegTree*, std::allocator<xgboost::RegTree*> > const&)+0x1270) [0x7ff3239907f0]\n  [bt] (2) /usr/local/lib/python3.7/dist-packages/xgboost/./lib/libxgboost.so(xgboost::gbm::GBTree::BoostNewTrees(xgboost::HostDeviceVector<xgboost::detail::GradientPairInternal<float> >*, xgboost::DMatrix*, int, std::vector<std::unique_ptr<xgboost::RegTree, std::default_delete<xgboost::RegTree> >, std::allocator<std::unique_ptr<xgboost::RegTree, std::default_delete<xgboost::RegTree> > > >*)+0xa81) [0x7ff3237da791]\n  [bt] (3) /usr/local/lib/python3.7/dist-packages/xgboost/./lib/libxgboost.so(xgboost::gbm::GBTree::DoBoost(xgboost::DMatrix*, xgboost::HostDeviceVector<xgboost::detail::GradientPairInternal<float> >*, xgboost::ObjFunction*)+0xd65) [0x7ff3237dbc95]\n  [bt] (4) /usr/local/lib/python3.7/dist-packages/xgboost/./lib/libxgboost.so(xgboost::LearnerImpl::UpdateOneIter(int, xgboost::DMatrix*)+0x396) [0x7ff3237ee556]\n  [bt] (5) /usr/local/lib/python3.7/dist-packages/xgboost/./lib/libxgboost.so(XGBoosterUpdateOneIter+0x35) [0x7ff323751aa5]\n  [bt] (6) /usr/lib/x86_64-linux-gnu/libffi.so.6(ffi_call_unix64+0x4c) [0x7ff3c57efdae]\n  [bt] (7) /usr/lib/x86_64-linux-gnu/libffi.so.6(ffi_call+0x22f) [0x7ff3c57ef71f]\n  [bt] (8) /usr/lib/python3.7/lib-dynload/_ctypes.cpython-37m-x86_64-linux-gnu.so(_ctypes_callproc+0x28c) [0x7ff3c5a035bc]\n\n"
          ]
        }
      ]
    },
    {
      "cell_type": "code",
      "metadata": {
        "id": "wFdeww3pAN91"
      },
      "source": [
        ""
      ],
      "id": "wFdeww3pAN91",
      "execution_count": null,
      "outputs": []
    },
    {
      "cell_type": "code",
      "metadata": {
        "colab": {
          "base_uri": "https://localhost:8080/"
        },
        "id": "t4mpRu0lDFhn",
        "outputId": "9e11bd53-7ec7-4d4c-d62c-155e0c8891b8"
      },
      "source": [
        "pip install cupy-cuda92\n"
      ],
      "id": "t4mpRu0lDFhn",
      "execution_count": null,
      "outputs": [
        {
          "output_type": "stream",
          "name": "stdout",
          "text": [
            "Requirement already satisfied: cupy-cuda92 in /usr/local/lib/python3.7/dist-packages (9.6.0)\n",
            "Requirement already satisfied: numpy<1.24,>=1.17 in /usr/local/lib/python3.7/dist-packages (from cupy-cuda92) (1.19.5)\n",
            "Requirement already satisfied: fastrlock>=0.5 in /usr/local/lib/python3.7/dist-packages (from cupy-cuda92) (0.8)\n"
          ]
        }
      ]
    },
    {
      "cell_type": "code",
      "metadata": {
        "colab": {
          "base_uri": "https://localhost:8080/"
        },
        "id": "E1BAKvlaDMiN",
        "outputId": "525346fe-ae26-4af2-9b60-b4daedfb7412"
      },
      "source": [
        "pip install pynvrtc"
      ],
      "id": "E1BAKvlaDMiN",
      "execution_count": null,
      "outputs": [
        {
          "output_type": "stream",
          "name": "stdout",
          "text": [
            "Requirement already satisfied: pynvrtc in /usr/local/lib/python3.7/dist-packages (9.2)\n"
          ]
        }
      ]
    },
    {
      "cell_type": "code",
      "metadata": {
        "colab": {
          "base_uri": "https://localhost:8080/"
        },
        "id": "w2FCgBDZDWCd",
        "outputId": "e55cdd41-b94c-4f84-9d58-a01fd70efcea"
      },
      "source": [
        "pip install jupyter_tensorboard"
      ],
      "id": "w2FCgBDZDWCd",
      "execution_count": null,
      "outputs": [
        {
          "output_type": "stream",
          "name": "stdout",
          "text": [
            "Collecting jupyter_tensorboard\n",
            "  Downloading jupyter_tensorboard-0.2.0.tar.gz (15 kB)\n",
            "Requirement already satisfied: notebook>=5.0 in /usr/local/lib/python3.7/dist-packages (from jupyter_tensorboard) (5.3.1)\n",
            "Requirement already satisfied: tornado>=4 in /usr/local/lib/python3.7/dist-packages (from notebook>=5.0->jupyter_tensorboard) (5.1.1)\n",
            "Requirement already satisfied: traitlets>=4.2.1 in /usr/local/lib/python3.7/dist-packages (from notebook>=5.0->jupyter_tensorboard) (5.1.1)\n",
            "Requirement already satisfied: jupyter-client>=5.2.0 in /usr/local/lib/python3.7/dist-packages (from notebook>=5.0->jupyter_tensorboard) (5.3.5)\n",
            "Requirement already satisfied: nbformat in /usr/local/lib/python3.7/dist-packages (from notebook>=5.0->jupyter_tensorboard) (5.1.3)\n",
            "Requirement already satisfied: nbconvert in /usr/local/lib/python3.7/dist-packages (from notebook>=5.0->jupyter_tensorboard) (5.6.1)\n",
            "Requirement already satisfied: ipython-genutils in /usr/local/lib/python3.7/dist-packages (from notebook>=5.0->jupyter_tensorboard) (0.2.0)\n",
            "Requirement already satisfied: jinja2 in /usr/local/lib/python3.7/dist-packages (from notebook>=5.0->jupyter_tensorboard) (2.11.3)\n",
            "Requirement already satisfied: Send2Trash in /usr/local/lib/python3.7/dist-packages (from notebook>=5.0->jupyter_tensorboard) (1.8.0)\n",
            "Requirement already satisfied: terminado>=0.8.1 in /usr/local/lib/python3.7/dist-packages (from notebook>=5.0->jupyter_tensorboard) (0.12.1)\n",
            "Requirement already satisfied: jupyter-core>=4.4.0 in /usr/local/lib/python3.7/dist-packages (from notebook>=5.0->jupyter_tensorboard) (4.9.1)\n",
            "Requirement already satisfied: ipykernel in /usr/local/lib/python3.7/dist-packages (from notebook>=5.0->jupyter_tensorboard) (4.10.1)\n",
            "Requirement already satisfied: python-dateutil>=2.1 in /usr/local/lib/python3.7/dist-packages (from jupyter-client>=5.2.0->notebook>=5.0->jupyter_tensorboard) (2.8.2)\n",
            "Requirement already satisfied: pyzmq>=13 in /usr/local/lib/python3.7/dist-packages (from jupyter-client>=5.2.0->notebook>=5.0->jupyter_tensorboard) (22.3.0)\n",
            "Requirement already satisfied: six>=1.5 in /usr/local/lib/python3.7/dist-packages (from python-dateutil>=2.1->jupyter-client>=5.2.0->notebook>=5.0->jupyter_tensorboard) (1.15.0)\n",
            "Requirement already satisfied: ptyprocess in /usr/local/lib/python3.7/dist-packages (from terminado>=0.8.1->notebook>=5.0->jupyter_tensorboard) (0.7.0)\n",
            "Requirement already satisfied: ipython>=4.0.0 in /usr/local/lib/python3.7/dist-packages (from ipykernel->notebook>=5.0->jupyter_tensorboard) (5.5.0)\n",
            "Requirement already satisfied: setuptools>=18.5 in /usr/local/lib/python3.7/dist-packages (from ipython>=4.0.0->ipykernel->notebook>=5.0->jupyter_tensorboard) (57.4.0)\n",
            "Requirement already satisfied: simplegeneric>0.8 in /usr/local/lib/python3.7/dist-packages (from ipython>=4.0.0->ipykernel->notebook>=5.0->jupyter_tensorboard) (0.8.1)\n",
            "Requirement already satisfied: pygments in /usr/local/lib/python3.7/dist-packages (from ipython>=4.0.0->ipykernel->notebook>=5.0->jupyter_tensorboard) (2.6.1)\n",
            "Requirement already satisfied: pexpect in /usr/local/lib/python3.7/dist-packages (from ipython>=4.0.0->ipykernel->notebook>=5.0->jupyter_tensorboard) (4.8.0)\n",
            "Requirement already satisfied: prompt-toolkit<2.0.0,>=1.0.4 in /usr/local/lib/python3.7/dist-packages (from ipython>=4.0.0->ipykernel->notebook>=5.0->jupyter_tensorboard) (1.0.18)\n",
            "Requirement already satisfied: pickleshare in /usr/local/lib/python3.7/dist-packages (from ipython>=4.0.0->ipykernel->notebook>=5.0->jupyter_tensorboard) (0.7.5)\n",
            "Requirement already satisfied: decorator in /usr/local/lib/python3.7/dist-packages (from ipython>=4.0.0->ipykernel->notebook>=5.0->jupyter_tensorboard) (4.4.2)\n",
            "Requirement already satisfied: wcwidth in /usr/local/lib/python3.7/dist-packages (from prompt-toolkit<2.0.0,>=1.0.4->ipython>=4.0.0->ipykernel->notebook>=5.0->jupyter_tensorboard) (0.2.5)\n",
            "Requirement already satisfied: MarkupSafe>=0.23 in /usr/local/lib/python3.7/dist-packages (from jinja2->notebook>=5.0->jupyter_tensorboard) (2.0.1)\n",
            "Requirement already satisfied: entrypoints>=0.2.2 in /usr/local/lib/python3.7/dist-packages (from nbconvert->notebook>=5.0->jupyter_tensorboard) (0.3)\n",
            "Requirement already satisfied: mistune<2,>=0.8.1 in /usr/local/lib/python3.7/dist-packages (from nbconvert->notebook>=5.0->jupyter_tensorboard) (0.8.4)\n",
            "Requirement already satisfied: pandocfilters>=1.4.1 in /usr/local/lib/python3.7/dist-packages (from nbconvert->notebook>=5.0->jupyter_tensorboard) (1.5.0)\n",
            "Requirement already satisfied: testpath in /usr/local/lib/python3.7/dist-packages (from nbconvert->notebook>=5.0->jupyter_tensorboard) (0.5.0)\n",
            "Requirement already satisfied: defusedxml in /usr/local/lib/python3.7/dist-packages (from nbconvert->notebook>=5.0->jupyter_tensorboard) (0.7.1)\n",
            "Requirement already satisfied: bleach in /usr/local/lib/python3.7/dist-packages (from nbconvert->notebook>=5.0->jupyter_tensorboard) (4.1.0)\n",
            "Requirement already satisfied: jsonschema!=2.5.0,>=2.4 in /usr/local/lib/python3.7/dist-packages (from nbformat->notebook>=5.0->jupyter_tensorboard) (2.6.0)\n",
            "Requirement already satisfied: webencodings in /usr/local/lib/python3.7/dist-packages (from bleach->nbconvert->notebook>=5.0->jupyter_tensorboard) (0.5.1)\n",
            "Requirement already satisfied: packaging in /usr/local/lib/python3.7/dist-packages (from bleach->nbconvert->notebook>=5.0->jupyter_tensorboard) (21.3)\n",
            "Requirement already satisfied: pyparsing!=3.0.5,>=2.0.2 in /usr/local/lib/python3.7/dist-packages (from packaging->bleach->nbconvert->notebook>=5.0->jupyter_tensorboard) (3.0.6)\n",
            "Building wheels for collected packages: jupyter-tensorboard\n",
            "  Building wheel for jupyter-tensorboard (setup.py) ... \u001b[?25l\u001b[?25hdone\n",
            "  Created wheel for jupyter-tensorboard: filename=jupyter_tensorboard-0.2.0-py2.py3-none-any.whl size=15258 sha256=083a3cf171f52130f2df64dd9fddafc392fef8329bc5f1e710000a6b2d3aecfc\n",
            "  Stored in directory: /root/.cache/pip/wheels/59/14/ab/6d0bce449039ebdcbf45c1aff8c19153a68bf3f0492a32620e\n",
            "Successfully built jupyter-tensorboard\n",
            "Installing collected packages: jupyter-tensorboard\n",
            "Successfully installed jupyter-tensorboard-0.2.0\n"
          ]
        }
      ]
    },
    {
      "cell_type": "markdown",
      "metadata": {
        "id": "CYAKP2HIEL9L"
      },
      "source": [
        "新的试试"
      ],
      "id": "CYAKP2HIEL9L"
    },
    {
      "cell_type": "code",
      "metadata": {
        "id": "uHoZnBTzEO3p"
      },
      "source": [
        "from tensorflow.keras.layers import Input, Dense, BatchNormalization, Dropout, Concatenate, Lambda, GaussianNoise, Activation\n",
        "from tensorflow.keras.models import Model, Sequential\n",
        "from tensorflow.keras.losses import BinaryCrossentropy\n",
        "from tensorflow.keras.optimizers import Adam\n",
        "from tensorflow.keras.callbacks import EarlyStopping\n",
        "from tensorflow.keras.layers.experimental.preprocessing import Normalization\n",
        "import tensorflow as tf\n",
        "import numpy as np\n",
        "import pandas as pd"
      ],
      "id": "uHoZnBTzEO3p",
      "execution_count": null,
      "outputs": []
    },
    {
      "cell_type": "code",
      "metadata": {
        "id": "KCJ2j5C8EPxm"
      },
      "source": [
        "train= data\n",
        "train = train.query('date > 85').reset_index(drop = True) \n",
        "train = train[train['weight'] != 0]\n",
        "\n",
        "train.fillna(train.mean(),inplace=True)\n",
        "\n",
        "\n",
        "train = train.query('weight > 0').reset_index(drop = True)\n",
        "\n",
        "train['action'] = ((train['resp'].values) > 0).astype(int)\n",
        "\n",
        "\n",
        "features = [c for c in train.columns if \"feature\" in c]\n",
        "\n",
        "f_mean = np.mean(train[features[1:]].values,axis=0)\n",
        "\n",
        "X_train = train.loc[:, train.columns.str.contains('feature')].values\n",
        "y_train = (train.loc[:, 'action']).values"
      ],
      "id": "KCJ2j5C8EPxm",
      "execution_count": null,
      "outputs": []
    },
    {
      "cell_type": "code",
      "metadata": {
        "colab": {
          "base_uri": "https://localhost:8080/"
        },
        "id": "4T4nsQkbEVfE",
        "outputId": "48c3eb3f-e123-4047-f5bf-0632fad955c6"
      },
      "source": [
        "def create_mlp(\n",
        "    num_columns, num_labels, hidden_units, dropout_rates, label_smoothing, learning_rate\n",
        "):\n",
        "\n",
        "    inp = tf.keras.layers.Input(shape=(num_columns,))\n",
        "    x = tf.keras.layers.BatchNormalization()(inp)\n",
        "    x = tf.keras.layers.Dropout(dropout_rates[0])(x)\n",
        "    for i in range(len(hidden_units)):\n",
        "        x = tf.keras.layers.Dense(hidden_units[i])(x)\n",
        "        x = tf.keras.layers.BatchNormalization()(x)\n",
        "        x = tf.keras.layers.Activation(tf.keras.activations.swish)(x)\n",
        "        x = tf.keras.layers.Dropout(dropout_rates[i + 1])(x)\n",
        "\n",
        "    x = tf.keras.layers.Dense(num_labels)(x)\n",
        "    out = tf.keras.layers.Activation(\"sigmoid\")(x)\n",
        "\n",
        "    model = tf.keras.models.Model(inputs=inp, outputs=out)\n",
        "    model.compile(\n",
        "        optimizer=tf.keras.optimizers.Adam(learning_rate=learning_rate),\n",
        "        loss=tf.keras.losses.BinaryCrossentropy(label_smoothing=label_smoothing),\n",
        "        metrics=tf.keras.metrics.AUC(name=\"AUC\"),\n",
        "    )\n",
        "\n",
        "    return model\n",
        "\n",
        "\n",
        "batch_size = 5000\n",
        "hidden_units = [150, 150, 150]\n",
        "dropout_rates = [0.5, 0.5, 0.5, 0.5]\n",
        "label_smoothing = 1e-2\n",
        "learning_rate = 1e-3\n",
        "\n",
        "clf = create_mlp(\n",
        "    130, 1, hidden_units, dropout_rates, label_smoothing, learning_rate\n",
        "    )\n",
        "\n",
        "clf.fit(X_train, y_train, epochs=50, batch_size=5000)\n",
        "\n",
        "\n",
        "models = []\n",
        "\n",
        "models.append(clf)\n",
        "\n",
        "opt_th = 0.5000\n",
        "\n",
        "\n",
        "f = np.median\n",
        "models = models[-3:]"
      ],
      "id": "4T4nsQkbEVfE",
      "execution_count": null,
      "outputs": [
        {
          "output_type": "stream",
          "name": "stdout",
          "text": [
            "Epoch 1/50\n",
            "315/315 [==============================] - 44s 134ms/step - loss: 0.7089 - AUC: 0.5037\n",
            "Epoch 2/50\n",
            "315/315 [==============================] - 42s 134ms/step - loss: 0.6936 - AUC: 0.5078\n",
            "Epoch 3/50\n",
            "315/315 [==============================] - 43s 137ms/step - loss: 0.6930 - AUC: 0.5128\n",
            "Epoch 4/50\n",
            "315/315 [==============================] - 43s 137ms/step - loss: 0.6926 - AUC: 0.5175\n",
            "Epoch 5/50\n",
            "315/315 [==============================] - 42s 132ms/step - loss: 0.6925 - AUC: 0.5195\n",
            "Epoch 6/50\n",
            "315/315 [==============================] - 42s 133ms/step - loss: 0.6924 - AUC: 0.5206\n",
            "Epoch 7/50\n",
            "315/315 [==============================] - 42s 133ms/step - loss: 0.6923 - AUC: 0.5220\n",
            "Epoch 8/50\n",
            "315/315 [==============================] - 42s 134ms/step - loss: 0.6923 - AUC: 0.5224\n",
            "Epoch 9/50\n",
            "315/315 [==============================] - 42s 133ms/step - loss: 0.6922 - AUC: 0.5235\n",
            "Epoch 10/50\n",
            "315/315 [==============================] - 42s 133ms/step - loss: 0.6921 - AUC: 0.5247\n",
            "Epoch 11/50\n",
            "315/315 [==============================] - 43s 136ms/step - loss: 0.6921 - AUC: 0.5245\n",
            "Epoch 12/50\n",
            "315/315 [==============================] - 40s 128ms/step - loss: 0.6920 - AUC: 0.5257\n",
            "Epoch 13/50\n",
            "315/315 [==============================] - 40s 128ms/step - loss: 0.6920 - AUC: 0.5254\n",
            "Epoch 14/50\n",
            "315/315 [==============================] - 40s 128ms/step - loss: 0.6920 - AUC: 0.5262\n",
            "Epoch 15/50\n",
            "315/315 [==============================] - 38s 120ms/step - loss: 0.6919 - AUC: 0.5264\n",
            "Epoch 16/50\n",
            "315/315 [==============================] - 38s 120ms/step - loss: 0.6919 - AUC: 0.5270\n",
            "Epoch 17/50\n",
            "315/315 [==============================] - 38s 120ms/step - loss: 0.6919 - AUC: 0.5270\n",
            "Epoch 18/50\n",
            "315/315 [==============================] - 38s 121ms/step - loss: 0.6919 - AUC: 0.5270\n",
            "Epoch 19/50\n",
            "315/315 [==============================] - 38s 121ms/step - loss: 0.6918 - AUC: 0.5275\n",
            "Epoch 20/50\n",
            "315/315 [==============================] - 38s 120ms/step - loss: 0.6917 - AUC: 0.5280\n",
            "Epoch 21/50\n",
            "315/315 [==============================] - 38s 121ms/step - loss: 0.6917 - AUC: 0.5282\n",
            "Epoch 22/50\n",
            "315/315 [==============================] - 37s 117ms/step - loss: 0.6917 - AUC: 0.5282\n",
            "Epoch 23/50\n",
            "315/315 [==============================] - 36s 115ms/step - loss: 0.6917 - AUC: 0.5284\n",
            "Epoch 24/50\n",
            "315/315 [==============================] - 37s 118ms/step - loss: 0.6916 - AUC: 0.5287\n",
            "Epoch 25/50\n",
            "315/315 [==============================] - 36s 116ms/step - loss: 0.6916 - AUC: 0.5288\n",
            "Epoch 26/50\n",
            "315/315 [==============================] - 37s 116ms/step - loss: 0.6916 - AUC: 0.5290\n",
            "Epoch 27/50\n",
            "315/315 [==============================] - 37s 116ms/step - loss: 0.6916 - AUC: 0.5293\n",
            "Epoch 28/50\n",
            "315/315 [==============================] - 37s 116ms/step - loss: 0.6916 - AUC: 0.5293\n",
            "Epoch 29/50\n",
            "315/315 [==============================] - 37s 116ms/step - loss: 0.6915 - AUC: 0.5294\n",
            "Epoch 30/50\n",
            "315/315 [==============================] - 36s 115ms/step - loss: 0.6915 - AUC: 0.5299\n",
            "Epoch 31/50\n",
            "315/315 [==============================] - 36s 115ms/step - loss: 0.6915 - AUC: 0.5297\n",
            "Epoch 32/50\n",
            "315/315 [==============================] - 36s 116ms/step - loss: 0.6914 - AUC: 0.5303\n",
            "Epoch 33/50\n",
            "315/315 [==============================] - 35s 110ms/step - loss: 0.6914 - AUC: 0.5305\n",
            "Epoch 34/50\n",
            "315/315 [==============================] - 35s 110ms/step - loss: 0.6914 - AUC: 0.5300\n",
            "Epoch 35/50\n",
            "315/315 [==============================] - 34s 109ms/step - loss: 0.6914 - AUC: 0.5304\n",
            "Epoch 36/50\n",
            "315/315 [==============================] - 35s 110ms/step - loss: 0.6914 - AUC: 0.5297\n",
            "Epoch 37/50\n",
            "315/315 [==============================] - 35s 110ms/step - loss: 0.6914 - AUC: 0.5303\n",
            "Epoch 38/50\n",
            "315/315 [==============================] - 35s 110ms/step - loss: 0.6914 - AUC: 0.5307\n",
            "Epoch 39/50\n",
            "315/315 [==============================] - 35s 110ms/step - loss: 0.6913 - AUC: 0.5307\n",
            "Epoch 40/50\n",
            "315/315 [==============================] - 35s 110ms/step - loss: 0.6913 - AUC: 0.5307\n",
            "Epoch 41/50\n",
            "315/315 [==============================] - 35s 110ms/step - loss: 0.6913 - AUC: 0.5307\n",
            "Epoch 42/50\n",
            "315/315 [==============================] - 35s 110ms/step - loss: 0.6913 - AUC: 0.5309\n",
            "Epoch 43/50\n",
            "315/315 [==============================] - 35s 110ms/step - loss: 0.6913 - AUC: 0.5306\n",
            "Epoch 44/50\n",
            "315/315 [==============================] - 35s 110ms/step - loss: 0.6913 - AUC: 0.5305\n",
            "Epoch 45/50\n",
            "315/315 [==============================] - 35s 110ms/step - loss: 0.6913 - AUC: 0.5311\n",
            "Epoch 46/50\n",
            "315/315 [==============================] - 35s 110ms/step - loss: 0.6912 - AUC: 0.5309\n",
            "Epoch 47/50\n",
            "315/315 [==============================] - 35s 110ms/step - loss: 0.6912 - AUC: 0.5314\n",
            "Epoch 48/50\n",
            "315/315 [==============================] - 35s 110ms/step - loss: 0.6912 - AUC: 0.5316\n",
            "Epoch 49/50\n",
            "315/315 [==============================] - 35s 110ms/step - loss: 0.6912 - AUC: 0.5314\n",
            "Epoch 50/50\n",
            "315/315 [==============================] - 35s 110ms/step - loss: 0.6912 - AUC: 0.5310\n"
          ]
        }
      ]
    },
    {
      "cell_type": "code",
      "metadata": {
        "colab": {
          "base_uri": "https://localhost:8080/",
          "height": 129
        },
        "id": "ZWbxvZkNF1W1",
        "outputId": "055fdd23-bed0-4233-ffdc-9bf909aee953"
      },
      "source": [
        ""
      ],
      "id": "ZWbxvZkNF1W1",
      "execution_count": null,
      "outputs": [
        {
          "output_type": "error",
          "ename": "SyntaxError",
          "evalue": "ignored",
          "traceback": [
            "\u001b[0;36m  File \u001b[0;32m\"<ipython-input-25-d535ca9e37ee>\"\u001b[0;36m, line \u001b[0;32m1\u001b[0m\n\u001b[0;31m    conda create -n py37 python=3.7\u001b[0m\n\u001b[0m               ^\u001b[0m\n\u001b[0;31mSyntaxError\u001b[0m\u001b[0;31m:\u001b[0m invalid syntax\n"
          ]
        }
      ]
    },
    {
      "cell_type": "code",
      "metadata": {
        "id": "WF-ePe8ARrKS"
      },
      "source": [
        ""
      ],
      "id": "WF-ePe8ARrKS",
      "execution_count": null,
      "outputs": []
    }
  ]
}